{
 "cells": [
  {
   "cell_type": "markdown",
   "id": "d7887942",
   "metadata": {},
   "source": [
    "# Basic Select "
   ]
  },
  {
   "cell_type": "markdown",
   "id": "fe0ffd3e",
   "metadata": {},
   "source": [
    "# Revising the Select Query I"
   ]
  },
  {
   "cell_type": "markdown",
   "id": "73269e6b",
   "metadata": {},
   "source": [
    "<img src=\"images/revising the select query I.jpg\" width=\"250\" height=\"300\">"
   ]
  },
  {
   "cell_type": "markdown",
   "id": "10d1eee7",
   "metadata": {},
   "source": [
    "The CITY table is described as above:\n",
    "\n",
    "Query all columns for all American cities in the CITY table with populations larger than 100000. The CountryCode for America is USA."
   ]
  },
  {
   "cell_type": "code",
   "execution_count": 3,
   "id": "df99f971",
   "metadata": {},
   "outputs": [],
   "source": [
    "# Solution below. Code was verified on hacckerrank."
   ]
  },
  {
   "cell_type": "markdown",
   "id": "fd93a65f",
   "metadata": {},
   "source": [
    "    SELECT * \n",
    "    FROM CITY\n",
    "    WHERE POPULATION > 100000 AND COUNTRYCODE = 'USA'"
   ]
  },
  {
   "cell_type": "markdown",
   "id": "e2133131",
   "metadata": {},
   "source": [
    "# Revising the Select Query II"
   ]
  },
  {
   "cell_type": "markdown",
   "id": "87d7815f",
   "metadata": {},
   "source": [
    "<img src=\"images/revising the select query I.jpg\" width=\"250\" height=\"300\">"
   ]
  },
  {
   "cell_type": "markdown",
   "id": "88ca2bca",
   "metadata": {},
   "source": [
    "The CITY table is described as above:\n",
    "\n",
    "Query the NAME field for all American cities in the CITY table with populations larger than 120000. The CountryCode for America is USA."
   ]
  },
  {
   "cell_type": "code",
   "execution_count": 4,
   "id": "ee1623db",
   "metadata": {},
   "outputs": [],
   "source": [
    "# Solution below. Code was verified on hacckerrank."
   ]
  },
  {
   "cell_type": "markdown",
   "id": "fb5118f5",
   "metadata": {},
   "source": [
    "    SELECT NAME\n",
    "    FROM CITY\n",
    "    WHERE POPULATION > 120000 AND COUNTRYCODE = 'USA'"
   ]
  },
  {
   "cell_type": "markdown",
   "id": "1f3be11c",
   "metadata": {},
   "source": [
    "# Select All"
   ]
  },
  {
   "cell_type": "markdown",
   "id": "bc0e1a91",
   "metadata": {},
   "source": [
    "<img src=\"images/revising the select query I.jpg\" width=\"250\" height=\"300\">"
   ]
  },
  {
   "cell_type": "markdown",
   "id": "5b1a5dcf",
   "metadata": {},
   "source": [
    "The CITY table is described as above: \n",
    "\n",
    "Query all columns (attributes) for every row in the CITY table."
   ]
  },
  {
   "cell_type": "code",
   "execution_count": 7,
   "id": "0611acd0",
   "metadata": {},
   "outputs": [],
   "source": [
    "# Solution below. Code was verified on hacckerrank."
   ]
  },
  {
   "cell_type": "markdown",
   "id": "8e7328af",
   "metadata": {},
   "source": [
    "    SELECT *\n",
    "    FROM CITY"
   ]
  },
  {
   "cell_type": "code",
   "execution_count": null,
   "id": "5fb1ddee",
   "metadata": {},
   "outputs": [],
   "source": []
  }
 ],
 "metadata": {
  "kernelspec": {
   "display_name": "Python 3",
   "language": "python",
   "name": "python3"
  },
  "language_info": {
   "codemirror_mode": {
    "name": "ipython",
    "version": 3
   },
   "file_extension": ".py",
   "mimetype": "text/x-python",
   "name": "python",
   "nbconvert_exporter": "python",
   "pygments_lexer": "ipython3",
   "version": "3.8.8"
  }
 },
 "nbformat": 4,
 "nbformat_minor": 5
}
