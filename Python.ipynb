{
 "cells": [
  {
   "cell_type": "markdown",
   "id": "5025f696",
   "metadata": {},
   "source": [
    "# Basic Data Types"
   ]
  },
  {
   "cell_type": "markdown",
   "id": "1ca5e361",
   "metadata": {},
   "source": [
    "## Find the Runner-Up Score!"
   ]
  },
  {
   "cell_type": "markdown",
   "id": "6db35a0d",
   "metadata": {},
   "source": [
    "- Given the participants' score sheet for your University Sports Day, you are required to find the runnerup score.  - You are given 'n' scores. Store them in a list and find the score of the runner-up.\n",
    "- Input Format\n",
    "- The first line contains 'n' The second line contains an array A[ ] of n integers each separated by a space.\n",
    "\n",
    "### Constraints\n",
    "2 <= n <=10<br>\n",
    "-100 < A[i] < 100<br>\n",
    "\n",
    "### Output Format\n",
    "- Print the runner-up score.\n",
    "\n",
    "#### Sample Input 0\n",
    "5<br>\n",
    "2 3 6 6 5<br>\n",
    "### Sample Output 0\n",
    "5<br>\n",
    "#### Explanation 0\n",
    "Given list is [2,3,6,6,5].<br>The maximum score is 6 second maximum is 5 Hence, we print 5 as the runner-up score."
   ]
  },
  {
   "cell_type": "code",
   "execution_count": 21,
   "id": "0a106805",
   "metadata": {},
   "outputs": [
    {
     "name": "stdout",
     "output_type": "stream",
     "text": [
      "3\n",
      "-10 0 10\n",
      "10\n"
     ]
    }
   ],
   "source": [
    "# INPUT IS STRANGE\n",
    "\n",
    "# For first input your going to type in 5\n",
    "\n",
    "# For second input your going to type 2 3 6 6 5, **include spaces***\n",
    "\n",
    "# Code provided by hackerrank\n",
    "if __name__ == '__main__':\n",
    "    n = int(input())\n",
    "    arr = map(int, input().split())\n",
    "\n",
    "    # My Code Starts Here <-------- \n",
    "    \n",
    "    # first I created a list out of the map arr\n",
    "    mylist = list(arr)\n",
    "    \n",
    "    # Type Casted my list at a set to get rid of duplicates\n",
    "    myset = set(mylist)\n",
    "    \n",
    "    # Changed the scores back to a list so I can reverse them\n",
    "    mylist = list(myset)\n",
    "    mylist.reverse()\n",
    "    \n",
    "    # Print the index in which the runnerup will always be.\n",
    "    print(mylist[1])"
   ]
  },
  {
   "cell_type": "code",
   "execution_count": null,
   "id": "4afca51f",
   "metadata": {},
   "outputs": [],
   "source": []
  }
 ],
 "metadata": {
  "kernelspec": {
   "display_name": "Python 3",
   "language": "python",
   "name": "python3"
  },
  "language_info": {
   "codemirror_mode": {
    "name": "ipython",
    "version": 3
   },
   "file_extension": ".py",
   "mimetype": "text/x-python",
   "name": "python",
   "nbconvert_exporter": "python",
   "pygments_lexer": "ipython3",
   "version": "3.8.8"
  }
 },
 "nbformat": 4,
 "nbformat_minor": 5
}
