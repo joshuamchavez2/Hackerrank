{
 "cells": [
  {
   "cell_type": "markdown",
   "id": "89cad54f",
   "metadata": {},
   "source": [
    "# Basic Data Types"
   ]
  },
  {
   "cell_type": "markdown",
   "id": "483b9953",
   "metadata": {},
   "source": [
    "## Find the Runner-Up Score!"
   ]
  },
  {
   "cell_type": "markdown",
   "id": "9a93d794",
   "metadata": {},
   "source": [
    "- Given the participants' score sheet for your University Sports Day, you are required to find the runnerup score.  - You are given 'n' scores. Store them in a list and find the score of the runner-up.\n",
    "- Input Format\n",
    "- The first line contains 'n' The second line contains an array A[ ] of n integers each separated by a space.\n",
    "\n",
    "### Constraints\n",
    "2 <= n <=10<br>\n",
    "-100 < A[i] < 100<br>\n",
    "\n",
    "### Output Format\n",
    "- Print the runner-up score.\n",
    "\n",
    "#### Sample Input 0\n",
    "5<br>\n",
    "2 3 6 6 5<br>\n",
    "### Sample Output 0\n",
    "5<br>\n",
    "#### Explanation 0\n",
    "Given list is [2,3,6,6,5].<br>The maximum score is 6 second maximum is 5 Hence, we print 5 as the runner-up score."
   ]
  },
  {
   "cell_type": "code",
   "execution_count": 23,
   "id": "db5ed2d4",
   "metadata": {},
   "outputs": [
    {
     "name": "stdout",
     "output_type": "stream",
     "text": [
      "3\n",
      "-10 0 10\n",
      "0\n"
     ]
    }
   ],
   "source": [
    "# INPUT IS STRANGE\n",
    "\n",
    "# For first input your going to type in 5\n",
    "\n",
    "# For second input your going to type 2 3 6 6 5, **include spaces***\n",
    "\n",
    "# Code provided by hackerrank\n",
    "if __name__ == '__main__':\n",
    "    n = int(input())\n",
    "    arr = map(int, input().split())\n",
    "\n",
    "    # My Code Starts Here <-------- \n",
    "    \n",
    "    # first I created a list out of the map arr\n",
    "    mylist = list(arr)\n",
    "    \n",
    "    \n",
    "    # Type Casted my list at a set to get rid of duplicates\n",
    "    myset = set(mylist)\n",
    "    \n",
    "    # Changed the scores back to a list so I can sort and reverse them\n",
    "    mylist = list(myset)\n",
    "    \n",
    "    # Sorting is an important step to make sure we can get the highest score\n",
    "    # at mylist[0] when we reverse()\n",
    "    mylist.sort()\n",
    "    mylist.reverse()\n",
    "    \n",
    "    # Print the index in which the runnerup will always be.\n",
    "    print(mylist[1])"
   ]
  },
  {
   "cell_type": "markdown",
   "id": "43dd2232",
   "metadata": {},
   "source": [
    "## Nested Lists"
   ]
  },
  {
   "cell_type": "markdown",
   "id": "107a47a2",
   "metadata": {},
   "source": [
    "- Given the names and grades for each student in a class of \"N\" students, store them in a nested list and print the name(s) of any student(s) having the second lowest grade.\n",
    "- Note: If there are multiple students with the second lowest grade, order their names alphabetically and print each name on a new line.\n",
    "\n",
    "### Example \n",
    "\n",
    "records = [[\"chi\", 20], [\"Beta\", 50], [\"alpha\", 50]\n",
    "\n",
    "The ordered list of scores is [20, 50], so the second lowest score is [50]. There are two students with that score: [\"beta\", \"alpha\"]. Ordered alphabetically, the names are printed as:\n",
    "\n",
    "alpha<br>\n",
    "beta\n",
    "\n",
    "### Constraints\n",
    "\n",
    "- 2 <= N <= 5\n",
    "\n",
    "There will always be one or more students having the second lowest grade.\n",
    "\n",
    "### Output Format\n",
    "- Print the name(s) of any student(s) having the second lowest grade in. If there are multiple students, order their names alphabetically and print each one on a new line."
   ]
  },
  {
   "cell_type": "code",
   "execution_count": 54,
   "id": "a4093bf4",
   "metadata": {},
   "outputs": [
    {
     "name": "stdout",
     "output_type": "stream",
     "text": [
      "Beria\n",
      "Harsh\n"
     ]
    }
   ],
   "source": [
    "# I set the value first, then the name so i can sort by value\n",
    "records = [[20, \"Harsh\"], [20, \"Beria\"], [19, \"Varun\"], [19, \"Kakunami\"], [21, \"Vikas\"]]\n",
    "# Sort Records First\n",
    "records.sort()\n",
    "\n",
    "# Setting the target value to the first record\n",
    "target = records[0][0]\n",
    "\n",
    "# Enumerate through records comparing target value starting at index records[1:]\n",
    "for index, value in enumerate(records[1:]):\n",
    "\n",
    "    # Once a value does not equal the target break set the value of targetindex to index + 1\n",
    "    # plus one because the index is one behind from skipping the start of the loop \"records[1:]\"\n",
    "    if value[0] != target:\n",
    "        targetindex = index + 1\n",
    "        break\n",
    "# Creating an empty list \n",
    "namelist = []\n",
    "\n",
    "# Adding our targetindex name to the namelist\n",
    "namelist.append(records[targetindex][1])\n",
    "\n",
    "# Creating a new starting_point\n",
    "starting_point = records[targetindex][0]\n",
    "\n",
    "# Loop through records again to find all values of the starting_point\n",
    "for student in records[targetindex+1:]:\n",
    "    \n",
    "    # Save those matching values names to namelist\n",
    "    if student[0]==starting_point:\n",
    "        namelist.append(student[1])\n",
    "# Finally, print the names\n",
    "for name in namelist:\n",
    "    print(name)"
   ]
  }
 ],
 "metadata": {
  "kernelspec": {
   "display_name": "Python 3",
   "language": "python",
   "name": "python3"
  },
  "language_info": {
   "codemirror_mode": {
    "name": "ipython",
    "version": 3
   },
   "file_extension": ".py",
   "mimetype": "text/x-python",
   "name": "python",
   "nbconvert_exporter": "python",
   "pygments_lexer": "ipython3",
   "version": "3.8.8"
  }
 },
 "nbformat": 4,
 "nbformat_minor": 5
}
